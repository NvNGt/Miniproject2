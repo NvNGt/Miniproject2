{
  "nbformat": 4,
  "nbformat_minor": 0,
  "metadata": {
    "colab": {
      "name": "nvannost_MongoDB.ipynb",
      "provenance": [],
      "collapsed_sections": []
    },
    "kernelspec": {
      "name": "python3",
      "display_name": "Python 3"
    },
    "accelerator": "GPU"
  },
  "cells": [
    {
      "cell_type": "markdown",
      "metadata": {
        "id": "IDaIr1VQ4aup",
        "colab_type": "text"
      },
      "source": [
        "1. Create a mongodb collection (nvannost) within the database fdac19mp2 where you store metadata for each of the 20 datasets: YourTopic, title, license, description, url(s) were the data may be retrieved"
      ]
    },
    {
      "cell_type": "code",
      "metadata": {
        "id": "sCKxnWUb3Z4Y",
        "colab_type": "code",
        "outputId": "0e992304-3967-42ea-e834-8817e6a0290f",
        "colab": {
          "base_uri": "https://localhost:8080/",
          "height": 418
        }
      },
      "source": [
        "import pprint\n",
        "import re\n",
        "import pymongo, json\n",
        "\n",
        "pp = pprint.PrettyPrinter(indent=1,width=65)\n",
        "\n",
        "client = pymongo.MongoClient (host=\"da1.eecs.utk.edu\")\n",
        "db = client ['fdac19mp2']\n",
        "coll = db ['nvannost']\n",
        "# for each dataset all at once (20 datasets)\n",
        "coll.insert_many ( [\n",
        "    { 'topic':'Nintendo Sales', 'dataset #1': 'Nintendo Console Sales 1997-2019', 'license': 'NA', 'description': 'Unit sales of Nintendo home consoles from 1997 to 2019 (in millions)*', 'urls': [ 'https://toolbox.google.com/datasetsearch/search?query=Nintendo%20sales&docid=pj0%2BzzVZTA5gY3mzAAAAAA%3D%3D', 'https://www.statista.com/statistics/227012/lifetime-unit-sales-of-nintendos-home-consoles/'] },\n",
        "    { 'topic':'Nintendo Sales', 'dataset #2': 'Nintendo: revenue 2016-2019, by product', 'license': 'NA', 'description': ' Nintendo revenue from fiscal 2016 to 2019, by product (in million Japanese yen)', 'urls': [ 'https://toolbox.google.com/datasetsearch/search?query=Nintendo%20sales&docid=WdGsmrC%2B5XaGBL7cAAAAAA%3D%3D', 'https://www.statista.com/statistics/216629/nintendo-sales-by-product/' ] },\n",
        "    { 'topic':'Nintendo Sales', 'dataset #3': 'Global unit sales of Nintendo Switch console 2017-2019', 'license': 'NA', 'description': 'Cumulative unit sales of the Nintendo Switch console worldwide from March 2017 to June 2019 (in millions)', 'urls': [ 'https://toolbox.google.com/datasetsearch/search?query=Nintendo%20sales&docid=xT0hyH1ec1dk%2FGevAAAAAA%3D%3D', 'https://www.statista.com/statistics/687059/nintendo-switch-unit-sales-worldwide/' ] },\n",
        "    { 'topic':'Nintendo Sales', 'dataset #4': 'Nintendo: net sales 2008-2019', 'license': 'NA', 'description': ' Nintendo net sales from fiscal 2008 to 2019 (in million U.S. Dollars)', 'urls': [ 'https://toolbox.google.com/datasetsearch/search?query=Nintendo%20sales&docid=w9nWlk1WPPi7KHS%2BAAAAAA%3D%3D', 'https://www.statista.com/statistics/216622/net-sales-of-nintendo-since-2008/' ] },\n",
        "    { 'topic':'Nintendo Sales', 'dataset #5': 'Nintendo revenue 2014 -2019, by region', 'license': 'NA', 'description': 'Nintendo revenue from fiscal 2014 to 2019, by region (in million Japanese yen)', 'urls': [ 'https://toolbox.google.com/datasetsearch/search?query=Nintendo%20sales&docid=0CM38utZHBO8TVA1AAAAAA%3D%3D', 'https://www.statista.com/statistics/216627/revenue-of-nintendo-by-region/' ] },\n",
        "    { 'topic':'Nintendo Sales', 'dataset #6': 'Global unit sales of video game consoles from 2008 to 2018', 'license': 'NA', 'description': ' Global unit sales of current generation video game consoles from 2008 to 2018 (in million units)', 'urls': [ 'https://toolbox.google.com/datasetsearch/search?query=Nintendo%20sales&docid=wKtU3mqOEXaa7l8bAAAAAA%3D%3D', 'https://www.statista.com/statistics/276768/global-unit-sales-of-video-game-consoles/' ] },\n",
        "    { 'topic':'Nintendo Sales', 'dataset #7': 'Nintendo Wii and Wii U console sales 2007-2018', 'license': 'NA', 'description': ' Console unit sales of the Nintendo Wii and Wii U from 2007 to 2018 (in million units)', 'urls': [ 'https://toolbox.google.com/datasetsearch/search?query=Nintendo%20sales&docid=YEefWwW8ST53zlmoAAAAAA%3D%3D', 'https://www.statista.com/statistics/349078/nintendo-wii-and-wii-u-console-sales/' ] },\n",
        "    { 'topic':'Nintendo Sales', 'dataset #8': 'Nintendo DS sales worldwide 2005-2015', 'license': 'NA', 'description': 'Nintendo DS sales worldwide from 2005 to 2015 (in million units)', 'urls': [ 'https://toolbox.google.com/datasetsearch/search?query=Nintendo%20sales&docid=KkL2Y2ebSRUEg1GbAAAAAA%3D%3D', 'https://www.statista.com/statistics/271775/worldwide-sales-of-the-nintendo-ds-since-2004/' ] },\n",
        "    { 'topic':'Nintendo Sales', 'dataset #9': 'Game consoles unit sales in the U.S. by device/platform 2007-2018', 'license': 'NA', 'description': 'Unit sales of game consoles in the United States by platform from 2007 to 2018 (in millions)', 'urls': [ 'https://toolbox.google.com/datasetsearch/search?query=Nintendo%20sales&docid=vnf13axOP6Ms16nUAAAAAA%3D%3D', 'https://www.statista.com/statistics/685117/us-game-consoles-unit-sales/' ] },\n",
        "    { 'topic':'Nintendo Sales', 'dataset #10': 'Nintendo 3DS sales worldwide 2011-2018', 'license': 'NA', 'description': ' Nintendo 3DS hardware sales worldwide from fiscal year 2011 to 2018 (in million units)', 'urls': [ 'https://toolbox.google.com/datasetsearch/search?query=Nintendo%20sales&docid=xgii4xzQZKHqjHSLAAAAAA%3D%3D', 'https://static1.statista.com/statistics/262074/worldwide-sales-of-the-nintendo-3ds-since-2004/' ] },\n",
        "    { 'topic':'Nintendo Sales', 'dataset #11': 'Nintendo 3DS: unit sales in Europe 2011-2017', 'license': 'NA', 'description': ' Unit sales of the Nintendo 3DS in Europe from 2011 to 2017', 'urls': [ 'https://toolbox.google.com/datasetsearch/search?query=Nintendo%20sales&docid=%2F67zTFcFaC%2FrVbuWAAAAAA%3D%3D', 'https://www.statista.com/statistics/453608/nintendo-3ds-unit-sales-in-europe/' ] },\n",
        "    { 'topic':'Nintendo Sales', 'dataset #12': 'Top selling Nintendo 3DS games worldwide in 2019', 'license': 'NA', 'description': 'Top selling Nintendo 3DS game titles worldwide as of June 2019 (in million units)', 'urls': [ 'https://toolbox.google.com/datasetsearch/search?query=Nintendo%20sales&docid=HKBYhC%2F0U8emfV5eAAAAAA%3D%3D', 'https://www.statista.com/statistics/259083/top-selling-nintendo-3ds-titles-worldwide/' ] },\n",
        "    { 'topic':'Nintendo Sales', 'dataset #13': 'Global unit sales of Nintendo Wii U consoles 2013-2017', 'license': 'NA', 'description': 'Unit sales of Nintendo Wii U consoles worldwide from 2013 to 2017 (in millions)', 'urls': [ 'https://toolbox.google.com/datasetsearch/search?query=Nintendo%20sales&docid=T1MeQTDaWDLx40lAAAAAAA%3D%3D', 'https://www.statista.com/statistics/651585/global-wii-u-console-unit-sales/' ] },\n",
        "    { 'topic':'Nintendo Sales', 'dataset #14': 'Lifetime North American unit sales of video game consoles as of February 2019', 'license': 'NA', 'description': 'Video game console sales in North America for products total lifespan as of February 2019 (in million units)', 'urls': [ 'https://toolbox.google.com/datasetsearch/search?query=Nintendo%20sales&docid=2iQIKfvTZL1mk7gcAAAAAA%3D%3D', 'https://www.statista.com/statistics/999383/total-number-of-game-consoles-sold-north-america-by-console-type/' ] },\n",
        "    { 'topic':'Nintendo Sales', 'dataset #15': 'Global top-selling console games in 2018, by unit sales', 'license': 'NA', 'description': 'Top-selling console games worldwide in 2018, by unit sales (in millions)', 'urls': [ 'https://toolbox.google.com/datasetsearch/search?query=Nintendo%20sales&docid=0rgOj8Ot0%2BvfmbGVAAAAAA%3D%3D', 'https://www.statista.com/statistics/273335/sales-of-the-worlds-most-popular-console-games-in-2011/' ] },\n",
        "    { 'topic':'Nintendo Sales', 'dataset #16': 'Global unit sales of Nintendo Wii consoles 2013-2015', 'license': 'NA', 'description': 'Unit sales of Nintendo Wii consoles worldwide from 2013 to 2015 (in 1,000s)', 'urls': [ 'https://toolbox.google.com/datasetsearch/search?query=Nintendo%20sales&docid=Ib8xNXyYQh%2BYs4JOAAAAAA%3D%3D', 'https://www.statista.com/statistics/651586/global-wii-console-unit-sales/' ] },\n",
        "    { 'topic':'Nintendo Sales', 'dataset #17': 'All-time best selling console games worldwide 2019, based on unit sales', 'license': 'NA', 'description': 'All-time best-selling console games based on global unit sales as of February 2019 (in million units)', 'urls': [ 'https://toolbox.google.com/datasetsearch/search?query=Nintendo%20sales&docid=Ip1o1JMEcX4ulBD7AAAAAA%3D%3D', 'https://www.statista.com/statistics/264530/all-time-best-selling-console-games-worldwide/' ] },\n",
        "    { 'topic':'Nintendo Sales', 'dataset #18': 'Top selling Nintendo Wii games worldwide in 2019', 'license': 'NA', 'description': 'Top selling Nintendo Wii game titles worldwide as of March 2019 (in million units)', 'urls': [ 'https://toolbox.google.com/datasetsearch/search?query=Nintendo%20sales&docid=rnaqDj41G9HxWuN4AAAAAA%3D%3D', 'https://www.statista.com/statistics/248204/top-selling-nintendo-wii-titles-worldwide/' ] },\n",
        "    { 'topic':'Nintendo Sales', 'dataset #19': 'Sales volume of Nintendo 3DS consoles in Germany 2011-2018', 'license': 'NA', 'description': 'Number of Nintendo 3DS handheld consoles sold in Germany from 2011 to 2018', 'urls': [ 'https://toolbox.google.com/datasetsearch/search?query=Nintendo%20sales&docid=pLhCKyb3sXZnblxAAAAAAA%3D%3D', 'https://www.statista.com/statistics/494563/nintendo-3ds-sales-volume-germany/' ] },\n",
        "    { 'topic':'Nintendo Sales', 'dataset #20': 'Leading game console brand unit sales Japan 2018', 'license': 'NA', 'description': 'Leading game console brands sold in Japan in 2018, by unit sales (in 1,000 units)', 'urls': [ 'https://toolbox.google.com/datasetsearch/search?query=Nintendo%20sales&docid=n8exV72bHs0CWPsXAAAAAA%3D%3D', 'https://www.statista.com/statistics/322755/game-console-sales-japan-brand/' ] } \n",
        "    ])\n",
        "\n",
        "#coll.insert_one ({ 'topic':'Nintendo Sales', 'dataset #1': 'Nintendo Console Sales 1997-2019', 'license': 'NA', 'description': 'Unit sales of Nintendo home consoles from 1997 to 2019 (in millions)*', 'urls': [ 'https://toolbox.google.com/datasetsearch/search?query=Nintendo%20sales&docid=pj0%2BzzVZTA5gY3mzAAAAAA%3D%3D', 'https://www.statista.com/statistics/227012/lifetime-unit-sales-of-nintendos-home-consoles/'] })"
      ],
      "execution_count": 0,
      "outputs": [
        {
          "output_type": "error",
          "ename": "ServerSelectionTimeoutError",
          "evalue": "ignored",
          "traceback": [
            "\u001b[0;31m---------------------------------------------------------------------------\u001b[0m",
            "\u001b[0;31mServerSelectionTimeoutError\u001b[0m               Traceback (most recent call last)",
            "\u001b[0;32m<ipython-input-1-04703c897f7d>\u001b[0m in \u001b[0;36m<module>\u001b[0;34m()\u001b[0m\n\u001b[1;32m     29\u001b[0m     \u001b[0;34m{\u001b[0m \u001b[0;34m'topic'\u001b[0m\u001b[0;34m:\u001b[0m\u001b[0;34m'Nintendo Sales'\u001b[0m\u001b[0;34m,\u001b[0m \u001b[0;34m'dataset #18'\u001b[0m\u001b[0;34m:\u001b[0m \u001b[0;34m'Top selling Nintendo Wii games worldwide in 2019'\u001b[0m\u001b[0;34m,\u001b[0m \u001b[0;34m'license'\u001b[0m\u001b[0;34m:\u001b[0m \u001b[0;34m'NA'\u001b[0m\u001b[0;34m,\u001b[0m \u001b[0;34m'description'\u001b[0m\u001b[0;34m:\u001b[0m \u001b[0;34m'Top selling Nintendo Wii game titles worldwide as of March 2019 (in million units)'\u001b[0m\u001b[0;34m,\u001b[0m \u001b[0;34m'urls'\u001b[0m\u001b[0;34m:\u001b[0m \u001b[0;34m[\u001b[0m \u001b[0;34m'https://toolbox.google.com/datasetsearch/search?query=Nintendo%20sales&docid=rnaqDj41G9HxWuN4AAAAAA%3D%3D'\u001b[0m\u001b[0;34m,\u001b[0m \u001b[0;34m'https://www.statista.com/statistics/248204/top-selling-nintendo-wii-titles-worldwide/'\u001b[0m \u001b[0;34m]\u001b[0m \u001b[0;34m}\u001b[0m\u001b[0;34m,\u001b[0m\u001b[0;34m\u001b[0m\u001b[0;34m\u001b[0m\u001b[0m\n\u001b[1;32m     30\u001b[0m     \u001b[0;34m{\u001b[0m \u001b[0;34m'topic'\u001b[0m\u001b[0;34m:\u001b[0m\u001b[0;34m'Nintendo Sales'\u001b[0m\u001b[0;34m,\u001b[0m \u001b[0;34m'dataset #19'\u001b[0m\u001b[0;34m:\u001b[0m \u001b[0;34m'Sales volume of Nintendo 3DS consoles in Germany 2011-2018'\u001b[0m\u001b[0;34m,\u001b[0m \u001b[0;34m'license'\u001b[0m\u001b[0;34m:\u001b[0m \u001b[0;34m'NA'\u001b[0m\u001b[0;34m,\u001b[0m \u001b[0;34m'description'\u001b[0m\u001b[0;34m:\u001b[0m \u001b[0;34m'Number of Nintendo 3DS handheld consoles sold in Germany from 2011 to 2018'\u001b[0m\u001b[0;34m,\u001b[0m \u001b[0;34m'urls'\u001b[0m\u001b[0;34m:\u001b[0m \u001b[0;34m[\u001b[0m \u001b[0;34m'https://toolbox.google.com/datasetsearch/search?query=Nintendo%20sales&docid=pLhCKyb3sXZnblxAAAAAAA%3D%3D'\u001b[0m\u001b[0;34m,\u001b[0m \u001b[0;34m'https://www.statista.com/statistics/494563/nintendo-3ds-sales-volume-germany/'\u001b[0m \u001b[0;34m]\u001b[0m \u001b[0;34m}\u001b[0m\u001b[0;34m,\u001b[0m\u001b[0;34m\u001b[0m\u001b[0;34m\u001b[0m\u001b[0m\n\u001b[0;32m---> 31\u001b[0;31m     \u001b[0;34m{\u001b[0m \u001b[0;34m'topic'\u001b[0m\u001b[0;34m:\u001b[0m\u001b[0;34m'Nintendo Sales'\u001b[0m\u001b[0;34m,\u001b[0m \u001b[0;34m'dataset #20'\u001b[0m\u001b[0;34m:\u001b[0m \u001b[0;34m'Leading game console brand unit sales Japan 2018'\u001b[0m\u001b[0;34m,\u001b[0m \u001b[0;34m'license'\u001b[0m\u001b[0;34m:\u001b[0m \u001b[0;34m'NA'\u001b[0m\u001b[0;34m,\u001b[0m \u001b[0;34m'description'\u001b[0m\u001b[0;34m:\u001b[0m \u001b[0;34m'Leading game console brands sold in Japan in 2018, by unit sales (in 1,000 units)'\u001b[0m\u001b[0;34m,\u001b[0m \u001b[0;34m'urls'\u001b[0m\u001b[0;34m:\u001b[0m \u001b[0;34m[\u001b[0m \u001b[0;34m'https://toolbox.google.com/datasetsearch/search?query=Nintendo%20sales&docid=n8exV72bHs0CWPsXAAAAAA%3D%3D'\u001b[0m\u001b[0;34m,\u001b[0m \u001b[0;34m'https://www.statista.com/statistics/322755/game-console-sales-japan-brand/'\u001b[0m \u001b[0;34m]\u001b[0m \u001b[0;34m}\u001b[0m\u001b[0;34m\u001b[0m\u001b[0;34m\u001b[0m\u001b[0m\n\u001b[0m\u001b[1;32m     32\u001b[0m     ])\n\u001b[1;32m     33\u001b[0m \u001b[0;34m\u001b[0m\u001b[0m\n",
            "\u001b[0;32m/usr/local/lib/python3.6/dist-packages/pymongo/collection.py\u001b[0m in \u001b[0;36minsert_many\u001b[0;34m(self, documents, ordered, bypass_document_validation, session)\u001b[0m\n\u001b[1;32m    756\u001b[0m         \u001b[0mblk\u001b[0m \u001b[0;34m=\u001b[0m \u001b[0m_Bulk\u001b[0m\u001b[0;34m(\u001b[0m\u001b[0mself\u001b[0m\u001b[0;34m,\u001b[0m \u001b[0mordered\u001b[0m\u001b[0;34m,\u001b[0m \u001b[0mbypass_document_validation\u001b[0m\u001b[0;34m)\u001b[0m\u001b[0;34m\u001b[0m\u001b[0;34m\u001b[0m\u001b[0m\n\u001b[1;32m    757\u001b[0m         \u001b[0mblk\u001b[0m\u001b[0;34m.\u001b[0m\u001b[0mops\u001b[0m \u001b[0;34m=\u001b[0m \u001b[0;34m[\u001b[0m\u001b[0mdoc\u001b[0m \u001b[0;32mfor\u001b[0m \u001b[0mdoc\u001b[0m \u001b[0;32min\u001b[0m \u001b[0mgen\u001b[0m\u001b[0;34m(\u001b[0m\u001b[0;34m)\u001b[0m\u001b[0;34m]\u001b[0m\u001b[0;34m\u001b[0m\u001b[0;34m\u001b[0m\u001b[0m\n\u001b[0;32m--> 758\u001b[0;31m         \u001b[0mblk\u001b[0m\u001b[0;34m.\u001b[0m\u001b[0mexecute\u001b[0m\u001b[0;34m(\u001b[0m\u001b[0mwrite_concern\u001b[0m\u001b[0;34m,\u001b[0m \u001b[0msession\u001b[0m\u001b[0;34m=\u001b[0m\u001b[0msession\u001b[0m\u001b[0;34m)\u001b[0m\u001b[0;34m\u001b[0m\u001b[0;34m\u001b[0m\u001b[0m\n\u001b[0m\u001b[1;32m    759\u001b[0m         \u001b[0;32mreturn\u001b[0m \u001b[0mInsertManyResult\u001b[0m\u001b[0;34m(\u001b[0m\u001b[0minserted_ids\u001b[0m\u001b[0;34m,\u001b[0m \u001b[0mwrite_concern\u001b[0m\u001b[0;34m.\u001b[0m\u001b[0macknowledged\u001b[0m\u001b[0;34m)\u001b[0m\u001b[0;34m\u001b[0m\u001b[0;34m\u001b[0m\u001b[0m\n\u001b[1;32m    760\u001b[0m \u001b[0;34m\u001b[0m\u001b[0m\n",
            "\u001b[0;32m/usr/local/lib/python3.6/dist-packages/pymongo/bulk.py\u001b[0m in \u001b[0;36mexecute\u001b[0;34m(self, write_concern, session)\u001b[0m\n\u001b[1;32m    509\u001b[0m                 \u001b[0mself\u001b[0m\u001b[0;34m.\u001b[0m\u001b[0mexecute_no_results\u001b[0m\u001b[0;34m(\u001b[0m\u001b[0msock_info\u001b[0m\u001b[0;34m,\u001b[0m \u001b[0mgenerator\u001b[0m\u001b[0;34m)\u001b[0m\u001b[0;34m\u001b[0m\u001b[0;34m\u001b[0m\u001b[0m\n\u001b[1;32m    510\u001b[0m         \u001b[0;32melse\u001b[0m\u001b[0;34m:\u001b[0m\u001b[0;34m\u001b[0m\u001b[0;34m\u001b[0m\u001b[0m\n\u001b[0;32m--> 511\u001b[0;31m             \u001b[0;32mreturn\u001b[0m \u001b[0mself\u001b[0m\u001b[0;34m.\u001b[0m\u001b[0mexecute_command\u001b[0m\u001b[0;34m(\u001b[0m\u001b[0mgenerator\u001b[0m\u001b[0;34m,\u001b[0m \u001b[0mwrite_concern\u001b[0m\u001b[0;34m,\u001b[0m \u001b[0msession\u001b[0m\u001b[0;34m)\u001b[0m\u001b[0;34m\u001b[0m\u001b[0;34m\u001b[0m\u001b[0m\n\u001b[0m\u001b[1;32m    512\u001b[0m \u001b[0;34m\u001b[0m\u001b[0m\n\u001b[1;32m    513\u001b[0m \u001b[0;34m\u001b[0m\u001b[0m\n",
            "\u001b[0;32m/usr/local/lib/python3.6/dist-packages/pymongo/bulk.py\u001b[0m in \u001b[0;36mexecute_command\u001b[0;34m(self, generator, write_concern, session)\u001b[0m\n\u001b[1;32m    342\u001b[0m \u001b[0;34m\u001b[0m\u001b[0m\n\u001b[1;32m    343\u001b[0m         \u001b[0mclient\u001b[0m \u001b[0;34m=\u001b[0m \u001b[0mself\u001b[0m\u001b[0;34m.\u001b[0m\u001b[0mcollection\u001b[0m\u001b[0;34m.\u001b[0m\u001b[0mdatabase\u001b[0m\u001b[0;34m.\u001b[0m\u001b[0mclient\u001b[0m\u001b[0;34m\u001b[0m\u001b[0;34m\u001b[0m\u001b[0m\n\u001b[0;32m--> 344\u001b[0;31m         \u001b[0;32mwith\u001b[0m \u001b[0mclient\u001b[0m\u001b[0;34m.\u001b[0m\u001b[0m_tmp_session\u001b[0m\u001b[0;34m(\u001b[0m\u001b[0msession\u001b[0m\u001b[0;34m)\u001b[0m \u001b[0;32mas\u001b[0m \u001b[0ms\u001b[0m\u001b[0;34m:\u001b[0m\u001b[0;34m\u001b[0m\u001b[0;34m\u001b[0m\u001b[0m\n\u001b[0m\u001b[1;32m    345\u001b[0m             client._retry_with_session(\n\u001b[1;32m    346\u001b[0m                 self.is_retryable, retryable_bulk, s, self)\n",
            "\u001b[0;32m/usr/lib/python3.6/contextlib.py\u001b[0m in \u001b[0;36m__enter__\u001b[0;34m(self)\u001b[0m\n\u001b[1;32m     79\u001b[0m     \u001b[0;32mdef\u001b[0m \u001b[0m__enter__\u001b[0m\u001b[0;34m(\u001b[0m\u001b[0mself\u001b[0m\u001b[0;34m)\u001b[0m\u001b[0;34m:\u001b[0m\u001b[0;34m\u001b[0m\u001b[0;34m\u001b[0m\u001b[0m\n\u001b[1;32m     80\u001b[0m         \u001b[0;32mtry\u001b[0m\u001b[0;34m:\u001b[0m\u001b[0;34m\u001b[0m\u001b[0;34m\u001b[0m\u001b[0m\n\u001b[0;32m---> 81\u001b[0;31m             \u001b[0;32mreturn\u001b[0m \u001b[0mnext\u001b[0m\u001b[0;34m(\u001b[0m\u001b[0mself\u001b[0m\u001b[0;34m.\u001b[0m\u001b[0mgen\u001b[0m\u001b[0;34m)\u001b[0m\u001b[0;34m\u001b[0m\u001b[0;34m\u001b[0m\u001b[0m\n\u001b[0m\u001b[1;32m     82\u001b[0m         \u001b[0;32mexcept\u001b[0m \u001b[0mStopIteration\u001b[0m\u001b[0;34m:\u001b[0m\u001b[0;34m\u001b[0m\u001b[0;34m\u001b[0m\u001b[0m\n\u001b[1;32m     83\u001b[0m             \u001b[0;32mraise\u001b[0m \u001b[0mRuntimeError\u001b[0m\u001b[0;34m(\u001b[0m\u001b[0;34m\"generator didn't yield\"\u001b[0m\u001b[0;34m)\u001b[0m \u001b[0;32mfrom\u001b[0m \u001b[0;32mNone\u001b[0m\u001b[0;34m\u001b[0m\u001b[0;34m\u001b[0m\u001b[0m\n",
            "\u001b[0;32m/usr/local/lib/python3.6/dist-packages/pymongo/mongo_client.py\u001b[0m in \u001b[0;36m_tmp_session\u001b[0;34m(self, session, close)\u001b[0m\n\u001b[1;32m   1818\u001b[0m             \u001b[0;32mreturn\u001b[0m\u001b[0;34m\u001b[0m\u001b[0;34m\u001b[0m\u001b[0m\n\u001b[1;32m   1819\u001b[0m \u001b[0;34m\u001b[0m\u001b[0m\n\u001b[0;32m-> 1820\u001b[0;31m         \u001b[0ms\u001b[0m \u001b[0;34m=\u001b[0m \u001b[0mself\u001b[0m\u001b[0;34m.\u001b[0m\u001b[0m_ensure_session\u001b[0m\u001b[0;34m(\u001b[0m\u001b[0msession\u001b[0m\u001b[0;34m)\u001b[0m\u001b[0;34m\u001b[0m\u001b[0;34m\u001b[0m\u001b[0m\n\u001b[0m\u001b[1;32m   1821\u001b[0m         \u001b[0;32mif\u001b[0m \u001b[0ms\u001b[0m \u001b[0;32mand\u001b[0m \u001b[0mclose\u001b[0m\u001b[0;34m:\u001b[0m\u001b[0;34m\u001b[0m\u001b[0;34m\u001b[0m\u001b[0m\n\u001b[1;32m   1822\u001b[0m             \u001b[0;32mwith\u001b[0m \u001b[0ms\u001b[0m\u001b[0;34m:\u001b[0m\u001b[0;34m\u001b[0m\u001b[0;34m\u001b[0m\u001b[0m\n",
            "\u001b[0;32m/usr/local/lib/python3.6/dist-packages/pymongo/mongo_client.py\u001b[0m in \u001b[0;36m_ensure_session\u001b[0;34m(self, session)\u001b[0m\n\u001b[1;32m   1805\u001b[0m             \u001b[0;31m# Don't make implicit sessions causally consistent. Applications\u001b[0m\u001b[0;34m\u001b[0m\u001b[0;34m\u001b[0m\u001b[0;34m\u001b[0m\u001b[0m\n\u001b[1;32m   1806\u001b[0m             \u001b[0;31m# should always opt-in.\u001b[0m\u001b[0;34m\u001b[0m\u001b[0;34m\u001b[0m\u001b[0;34m\u001b[0m\u001b[0m\n\u001b[0;32m-> 1807\u001b[0;31m             \u001b[0;32mreturn\u001b[0m \u001b[0mself\u001b[0m\u001b[0;34m.\u001b[0m\u001b[0m__start_session\u001b[0m\u001b[0;34m(\u001b[0m\u001b[0;32mTrue\u001b[0m\u001b[0;34m,\u001b[0m \u001b[0mcausal_consistency\u001b[0m\u001b[0;34m=\u001b[0m\u001b[0;32mFalse\u001b[0m\u001b[0;34m)\u001b[0m\u001b[0;34m\u001b[0m\u001b[0;34m\u001b[0m\u001b[0m\n\u001b[0m\u001b[1;32m   1808\u001b[0m         \u001b[0;32mexcept\u001b[0m \u001b[0;34m(\u001b[0m\u001b[0mConfigurationError\u001b[0m\u001b[0;34m,\u001b[0m \u001b[0mInvalidOperation\u001b[0m\u001b[0;34m)\u001b[0m\u001b[0;34m:\u001b[0m\u001b[0;34m\u001b[0m\u001b[0;34m\u001b[0m\u001b[0m\n\u001b[1;32m   1809\u001b[0m             \u001b[0;31m# Sessions not supported, or multiple users authenticated.\u001b[0m\u001b[0;34m\u001b[0m\u001b[0;34m\u001b[0m\u001b[0;34m\u001b[0m\u001b[0m\n",
            "\u001b[0;32m/usr/local/lib/python3.6/dist-packages/pymongo/mongo_client.py\u001b[0m in \u001b[0;36m__start_session\u001b[0;34m(self, implicit, **kwargs)\u001b[0m\n\u001b[1;32m   1758\u001b[0m \u001b[0;34m\u001b[0m\u001b[0m\n\u001b[1;32m   1759\u001b[0m         \u001b[0;31m# Raises ConfigurationError if sessions are not supported.\u001b[0m\u001b[0;34m\u001b[0m\u001b[0;34m\u001b[0m\u001b[0;34m\u001b[0m\u001b[0m\n\u001b[0;32m-> 1760\u001b[0;31m         \u001b[0mserver_session\u001b[0m \u001b[0;34m=\u001b[0m \u001b[0mself\u001b[0m\u001b[0;34m.\u001b[0m\u001b[0m_get_server_session\u001b[0m\u001b[0;34m(\u001b[0m\u001b[0;34m)\u001b[0m\u001b[0;34m\u001b[0m\u001b[0;34m\u001b[0m\u001b[0m\n\u001b[0m\u001b[1;32m   1761\u001b[0m         \u001b[0mopts\u001b[0m \u001b[0;34m=\u001b[0m \u001b[0mclient_session\u001b[0m\u001b[0;34m.\u001b[0m\u001b[0mSessionOptions\u001b[0m\u001b[0;34m(\u001b[0m\u001b[0;34m**\u001b[0m\u001b[0mkwargs\u001b[0m\u001b[0;34m)\u001b[0m\u001b[0;34m\u001b[0m\u001b[0;34m\u001b[0m\u001b[0m\n\u001b[1;32m   1762\u001b[0m         return client_session.ClientSession(\n",
            "\u001b[0;32m/usr/local/lib/python3.6/dist-packages/pymongo/mongo_client.py\u001b[0m in \u001b[0;36m_get_server_session\u001b[0;34m(self)\u001b[0m\n\u001b[1;32m   1791\u001b[0m     \u001b[0;32mdef\u001b[0m \u001b[0m_get_server_session\u001b[0m\u001b[0;34m(\u001b[0m\u001b[0mself\u001b[0m\u001b[0;34m)\u001b[0m\u001b[0;34m:\u001b[0m\u001b[0;34m\u001b[0m\u001b[0;34m\u001b[0m\u001b[0m\n\u001b[1;32m   1792\u001b[0m         \u001b[0;34m\"\"\"Internal: start or resume a _ServerSession.\"\"\"\u001b[0m\u001b[0;34m\u001b[0m\u001b[0;34m\u001b[0m\u001b[0m\n\u001b[0;32m-> 1793\u001b[0;31m         \u001b[0;32mreturn\u001b[0m \u001b[0mself\u001b[0m\u001b[0;34m.\u001b[0m\u001b[0m_topology\u001b[0m\u001b[0;34m.\u001b[0m\u001b[0mget_server_session\u001b[0m\u001b[0;34m(\u001b[0m\u001b[0;34m)\u001b[0m\u001b[0;34m\u001b[0m\u001b[0;34m\u001b[0m\u001b[0m\n\u001b[0m\u001b[1;32m   1794\u001b[0m \u001b[0;34m\u001b[0m\u001b[0m\n\u001b[1;32m   1795\u001b[0m     \u001b[0;32mdef\u001b[0m \u001b[0m_return_server_session\u001b[0m\u001b[0;34m(\u001b[0m\u001b[0mself\u001b[0m\u001b[0;34m,\u001b[0m \u001b[0mserver_session\u001b[0m\u001b[0;34m,\u001b[0m \u001b[0mlock\u001b[0m\u001b[0;34m)\u001b[0m\u001b[0;34m:\u001b[0m\u001b[0;34m\u001b[0m\u001b[0;34m\u001b[0m\u001b[0m\n",
            "\u001b[0;32m/usr/local/lib/python3.6/dist-packages/pymongo/topology.py\u001b[0m in \u001b[0;36mget_server_session\u001b[0;34m(self)\u001b[0m\n\u001b[1;32m    475\u001b[0m                             \u001b[0many_server_selector\u001b[0m\u001b[0;34m,\u001b[0m\u001b[0;34m\u001b[0m\u001b[0;34m\u001b[0m\u001b[0m\n\u001b[1;32m    476\u001b[0m                             \u001b[0mself\u001b[0m\u001b[0;34m.\u001b[0m\u001b[0m_settings\u001b[0m\u001b[0;34m.\u001b[0m\u001b[0mserver_selection_timeout\u001b[0m\u001b[0;34m,\u001b[0m\u001b[0;34m\u001b[0m\u001b[0;34m\u001b[0m\u001b[0m\n\u001b[0;32m--> 477\u001b[0;31m                             None)\n\u001b[0m\u001b[1;32m    478\u001b[0m                 \u001b[0;32melif\u001b[0m \u001b[0;32mnot\u001b[0m \u001b[0mself\u001b[0m\u001b[0;34m.\u001b[0m\u001b[0m_description\u001b[0m\u001b[0;34m.\u001b[0m\u001b[0mreadable_servers\u001b[0m\u001b[0;34m:\u001b[0m\u001b[0;34m\u001b[0m\u001b[0;34m\u001b[0m\u001b[0m\n\u001b[1;32m    479\u001b[0m                     self._select_servers_loop(\n",
            "\u001b[0;32m/usr/local/lib/python3.6/dist-packages/pymongo/topology.py\u001b[0m in \u001b[0;36m_select_servers_loop\u001b[0;34m(self, selector, timeout, address)\u001b[0m\n\u001b[1;32m    203\u001b[0m             \u001b[0;32mif\u001b[0m \u001b[0mtimeout\u001b[0m \u001b[0;34m==\u001b[0m \u001b[0;36m0\u001b[0m \u001b[0;32mor\u001b[0m \u001b[0mnow\u001b[0m \u001b[0;34m>\u001b[0m \u001b[0mend_time\u001b[0m\u001b[0;34m:\u001b[0m\u001b[0;34m\u001b[0m\u001b[0;34m\u001b[0m\u001b[0m\n\u001b[1;32m    204\u001b[0m                 raise ServerSelectionTimeoutError(\n\u001b[0;32m--> 205\u001b[0;31m                     self._error_message(selector))\n\u001b[0m\u001b[1;32m    206\u001b[0m \u001b[0;34m\u001b[0m\u001b[0m\n\u001b[1;32m    207\u001b[0m             \u001b[0mself\u001b[0m\u001b[0;34m.\u001b[0m\u001b[0m_ensure_opened\u001b[0m\u001b[0;34m(\u001b[0m\u001b[0;34m)\u001b[0m\u001b[0;34m\u001b[0m\u001b[0;34m\u001b[0m\u001b[0m\n",
            "\u001b[0;31mServerSelectionTimeoutError\u001b[0m: da1.eecs.utk.edu:27017: [Errno 113] No route to host"
          ]
        }
      ]
    },
    {
      "cell_type": "markdown",
      "metadata": {
        "id": "0Csw5NEh4GXB",
        "colab_type": "text"
      },
      "source": [
        "2. Check recorded information."
      ]
    },
    {
      "cell_type": "code",
      "metadata": {
        "id": "RiowmKzc4C5b",
        "colab_type": "code",
        "colab": {}
      },
      "source": [
        "import pprint\n",
        "import pymongo, json\n",
        "\n",
        "client = pymongo.MongoClient (host=\"da1.eecs.utk.edu\")\n",
        "db = client ['fdac19mp2']\n",
        "coll = db ['nvannost']\n",
        "pp = pprint.PrettyPrinter(indent=1,width=65)\n",
        "for r in coll. find():\n",
        "  print(pp .pformat (r))"
      ],
      "execution_count": 0,
      "outputs": []
    },
    {
      "cell_type": "code",
      "metadata": {
        "id": "CT49AP8T4J4K",
        "colab_type": "code",
        "colab": {}
      },
      "source": [
        ""
      ],
      "execution_count": 0,
      "outputs": []
    }
  ]
}
